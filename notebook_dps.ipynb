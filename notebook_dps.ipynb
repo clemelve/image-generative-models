{
 "cells": [
  {
   "cell_type": "code",
   "execution_count": null,
   "metadata": {},
   "outputs": [],
   "source": [
    "!pip install lpips\n",
    "!pip install scikit-image\n",
    "!pip install matplotlib"
   ]
  },
  {
   "cell_type": "code",
   "execution_count": null,
   "metadata": {},
   "outputs": [],
   "source": [
    "import torch\n",
    "import torchvision\n",
    "import numpy as np\n",
    "import time\n",
    "\n",
    "import matplotlib.pyplot as plt\n",
    "\n",
    "from PIL import Image\n",
    "from tqdm import tqdm\n",
    "from guided_diffusion.unet import create_model\n",
    "\n",
    "from utils import pilimg_to_tensor, display_as_pilimg, inpainting_operator, psnr, blurring_operator, downsampling_operator, transposed_blurring_op\n",
    "from dps import DPS\n",
    "import lpips\n",
    "from skimage.metrics import structural_similarity as ssim\n",
    "device = \"cuda:0\" if torch.cuda.is_available() else \"cpu\"\n",
    "print(\"Device:\", device)"
   ]
  },
  {
   "cell_type": "code",
   "execution_count": null,
   "metadata": {},
   "outputs": [],
   "source": [
    "model_config = {'image_size': 256,\n",
    "                'num_channels': 128,\n",
    "                'num_res_blocks': 1,\n",
    "                'channel_mult': '',\n",
    "                'learn_sigma': True,\n",
    "                'class_cond': False,\n",
    "                'use_checkpoint': False,\n",
    "                'attention_resolutions': 16,\n",
    "                'num_heads': 4,\n",
    "                'num_head_channels': 64,\n",
    "                'num_heads_upsample': -1,\n",
    "                'use_scale_shift_norm': True,\n",
    "                'dropout': 0.0,\n",
    "                'resblock_updown': True,\n",
    "                'use_fp16': False,\n",
    "                'use_new_attention_order': False,\n",
    "                'model_path': 'ffhq_10m.pt'}\n",
    "model = create_model(**model_config)\n",
    "model = model.to(device)\n",
    "model.eval()\n",
    "\n",
    "num_timesteps = 1000\n",
    "dps = DPS(model, num_timesteps, device)"
   ]
  },
  {
   "cell_type": "markdown",
   "metadata": {},
   "source": [
    "One example of inpainting operator : "
   ]
  },
  {
   "cell_type": "code",
   "execution_count": null,
   "metadata": {},
   "outputs": [],
   "source": [
    "idx = 11\n",
    "x_true_pil = Image.open('ffhq256/'+str(idx).zfill(5)+'.png')\n",
    "x_true = pilimg_to_tensor(x_true_pil, device)\n",
    "print(\"original image\", str(idx).zfill(5)+'.png')\n",
    "display_as_pilimg(x_true)\n",
    "\n",
    "y = inpainting_operator(x_true.clone(),256, 256, device)\n",
    "print(\"Inpainting operator :\")\n",
    "display_as_pilimg(y)"
   ]
  },
  {
   "cell_type": "code",
   "execution_count": null,
   "metadata": {},
   "outputs": [],
   "source": [
    "x = dps.posterior_sampling(inpainting_operator, y, x_true, show_steps=True, vis_y=None)\n",
    "print(\"Restaured image : \")\n",
    "display_as_pilimg(x)"
   ]
  },
  {
   "cell_type": "markdown",
   "metadata": {},
   "source": [
    "Run the experiments : "
   ]
  },
  {
   "cell_type": "code",
   "execution_count": null,
   "metadata": {},
   "outputs": [],
   "source": [
    "avg_lpips = []\n",
    "avg_psnr = []\n",
    "avg_ssim = []\n",
    "avg_tps = []\n",
    "\n",
    "loss_fn = lpips.LPIPS(net='alex').to(device)\n",
    "\n",
    "for idx in range(25):\n",
    "    x_true_pil = Image.open('ffhq256/'+str(idx).zfill(5)+'.png')\n",
    "    x_true = pilimg_to_tensor(x_true_pil, device)\n",
    "    print(\"Original image\", str(idx).zfill(5)+'.png')\n",
    "    display_as_pilimg(x_true, save = True, filename='results_dps_inp/true'+str(idx)+'.png')\n",
    "    y = inpainting_operator(x_true.clone(),256, 256, device)\n",
    "    print(\"Degraded image\")\n",
    "    display_as_pilimg(y, save = True, filename='results_dps_inp/degraded'+str(idx)+'.png')\n",
    "\n",
    "    t0 = time.time()\n",
    "    x = dps.posterior_sampling(inpainting_operator, y, x_true, show_steps=True, vis_y=None)\n",
    "    t1 = time.time()-t0\n",
    "\n",
    "    xlpips = loss_fn(x, x_true).item()\n",
    "    xpsnr = psnr(x, x_true)\n",
    "    xssim = ssim(x.squeeze(0).cpu().detach().numpy(), x_true.squeeze(0).cpu().detach().numpy(), win_size=3, data_range=1.0, size_average=True)\n",
    "    print(\"LPIPS =\", xlpips, \", PSNR =\", xpsnr, \", SSIM = \", xssim, \", Execution time = \", t1)\n",
    "    print(\"Restaured image\")\n",
    "    display_as_pilimg(x, save = True, filename='results_dps_inp/restaured'+str(idx)+'.png')\n",
    "    \n",
    "    avg_lpips.append(xlpips)\n",
    "    avg_psnr.append(xpsnr)\n",
    "    avg_ssim.append(xssim)\n",
    "    avg_tps.append(t1)"
   ]
  },
  {
   "cell_type": "code",
   "execution_count": null,
   "metadata": {},
   "outputs": [],
   "source": [
    "print(\"Average LPIPS : \", np.mean(avg_lpips))\n",
    "print(\"Average PSNR : \", np.mean(avg_psnr))\n",
    "print(\"Average SSIM : \", np.mean(avg_ssim))\n",
    "print(\"Average Execution time : \", np.mean(avg_tps))"
   ]
  },
  {
   "cell_type": "code",
   "execution_count": null,
   "metadata": {},
   "outputs": [],
   "source": [
    "print(\"Variance LPIPS : \", np.var(avg_lpips))\n",
    "print(\"Variance PSNR : \", np.var(avg_psnr))\n",
    "print(\"Variance SSIM : \", np.var(avg_ssim))\n",
    "print(\"Variance Execution time : \", np.var(avg_tps))"
   ]
  },
  {
   "cell_type": "markdown",
   "metadata": {},
   "source": [
    "Run the experiments for blurring operator + noise level 0.05: "
   ]
  },
  {
   "cell_type": "code",
   "execution_count": null,
   "metadata": {},
   "outputs": [],
   "source": [
    "sigma_noise = 0.05\n",
    "avg_lpips = []\n",
    "avg_psnr = []\n",
    "avg_ssim = []\n",
    "avg_tps = []\n",
    "\n",
    "loss_fn = lpips.LPIPS(net='alex').to(device)\n",
    "\n",
    "for idx in range(25):\n",
    "    x_true_pil = Image.open('ffhq256/'+str(idx).zfill(5)+'.png')\n",
    "    x_true = pilimg_to_tensor(x_true_pil, device)\n",
    "    print(\"Original image\", str(idx).zfill(5)+'.png')\n",
    "    display_as_pilimg(x_true, save = True, filename='results_dps_blur05/true'+str(idx)+'.png')\n",
    "\n",
    "    y = blurring_operator(x_true.clone(), device = device) + sigma_noise * torch.randn_like(x_true, device = device)\n",
    "    print(\"Degraded image\")\n",
    "    display_as_pilimg(y, save = True, filename='results_dps_blur05/degraded'+str(idx)+'.png')\n",
    "\n",
    "    t0 = time.time()\n",
    "    x = dps.posterior_sampling(blurring_operator, y, x_true, show_steps=True, vis_y=None)\n",
    "    t1 = time.time()-t0\n",
    "\n",
    "    xlpips = loss_fn(x, x_true).item()\n",
    "    xpsnr = psnr(x, x_true)\n",
    "    xssim = ssim(x.squeeze(0).cpu().detach().numpy(), x_true.squeeze(0).cpu().detach().numpy(), win_size=3, data_range=1.0, size_average=True)\n",
    "    print(\"LPIPS =\", xlpips, \", PSNR =\", xpsnr, \", SSIM = \", xssim, \", Execution time = \", t1)\n",
    "    print(\"Restaured image\")\n",
    "    display_as_pilimg(x,save = True, filename='results_dps_blur05/restored'+str(idx)+'.png')\n",
    "    \n",
    "    avg_lpips.append(xlpips)\n",
    "    avg_psnr.append(xpsnr)\n",
    "    avg_ssim.append(xssim)\n",
    "    avg_tps.append(t1)"
   ]
  },
  {
   "cell_type": "code",
   "execution_count": null,
   "metadata": {},
   "outputs": [],
   "source": [
    "print(\"Average LPIPS : \", np.mean(avg_lpips))\n",
    "print(\"Average PSNR : \", np.mean(avg_psnr))\n",
    "print(\"Average SSIM : \", np.mean(avg_ssim))\n",
    "print(\"Average Execution time : \", np.mean(avg_tps))"
   ]
  },
  {
   "cell_type": "code",
   "execution_count": null,
   "metadata": {},
   "outputs": [],
   "source": [
    "print(\"Variance LPIPS : \", np.var(avg_lpips))\n",
    "print(\"Variance PSNR : \", np.var(avg_psnr))\n",
    "print(\"Variance SSIM : \", np.var(avg_ssim))\n",
    "print(\"Variance Execution time : \", np.var(avg_tps))"
   ]
  },
  {
   "cell_type": "markdown",
   "metadata": {},
   "source": [
    "Run the experiements for gaussian blur and noise level 0.1 : "
   ]
  },
  {
   "cell_type": "code",
   "execution_count": null,
   "metadata": {},
   "outputs": [],
   "source": [
    "sigma_noise = 0.1\n",
    "avg_lpips = []\n",
    "avg_psnr = []\n",
    "avg_ssim = []\n",
    "avg_tps = []\n",
    "\n",
    "loss_fn = lpips.LPIPS(net='alex').to(device)\n",
    "\n",
    "for idx in range(25):\n",
    "    x_true_pil = Image.open('ffhq256/'+str(idx).zfill(5)+'.png')\n",
    "    x_true = pilimg_to_tensor(x_true_pil, device)\n",
    "    print(\"Original image\", str(idx).zfill(5)+'.png')\n",
    "    display_as_pilimg(x_true, save = True, filename='results_dps_blur1/true'+str(idx)+'.png')\n",
    "\n",
    "    y = blurring_operator(x_true.clone(), device = device) + sigma_noise * torch.randn_like(x_true, device = device)\n",
    "    print(\"Degraded image\")\n",
    "    display_as_pilimg(y, save = True, filename='results_dps_blur1/degraded'+str(idx)+'.png')\n",
    "\n",
    "    t0 = time.time()\n",
    "    x = dps.posterior_sampling(blurring_operator, y, x_true, show_steps=True, vis_y=None)\n",
    "    t1 = time.time()-t0\n",
    "\n",
    "    xlpips = loss_fn(x, x_true).item()\n",
    "    xpsnr = psnr(x, x_true)\n",
    "    xssim = ssim(x.squeeze(0).cpu().detach().numpy(), x_true.squeeze(0).cpu().detach().numpy(), win_size=3, data_range=1.0, size_average=True)\n",
    "    print(\"LPIPS =\", xlpips, \", PSNR =\", xpsnr, \", SSIM = \", xssim, \", Execution time = \", t1)\n",
    "    print(\"Restaured image\")\n",
    "    display_as_pilimg(x,save = True, filename='results_dps_blur1/restored'+str(idx)+'.png')\n",
    "    \n",
    "    avg_lpips.append(xlpips)\n",
    "    avg_psnr.append(xpsnr)\n",
    "    avg_ssim.append(xssim)\n",
    "    avg_tps.append(t1)"
   ]
  },
  {
   "cell_type": "code",
   "execution_count": null,
   "metadata": {},
   "outputs": [],
   "source": [
    "print(\"Average LPIPS : \", np.mean(avg_lpips))\n",
    "print(\"Average PSNR : \", np.mean(avg_psnr))\n",
    "print(\"Average SSIM : \", np.mean(avg_ssim))\n",
    "print(\"Average Execution time : \", np.mean(avg_tps))"
   ]
  },
  {
   "cell_type": "code",
   "execution_count": null,
   "metadata": {},
   "outputs": [],
   "source": [
    "print(\"Variance LPIPS : \", np.var(avg_lpips))\n",
    "print(\"Variance PSNR : \", np.var(avg_psnr))\n",
    "print(\"Variance SSIM : \", np.var(avg_ssim))\n",
    "print(\"Variance Execution time : \", np.var(avg_tps))"
   ]
  },
  {
   "cell_type": "markdown",
   "metadata": {},
   "source": [
    "Run the experiments for super-resolution (x4) : "
   ]
  },
  {
   "cell_type": "code",
   "execution_count": null,
   "metadata": {},
   "outputs": [],
   "source": [
    "avg_lpips = []\n",
    "avg_psnr = []\n",
    "avg_ssim = []\n",
    "avg_tps = []\n",
    "\n",
    "loss_fn = lpips.LPIPS(net='alex').to(device)\n",
    "\n",
    "for idx in range(25):\n",
    "    x_true_pil = Image.open('ffhq256/'+str(idx).zfill(5)+'.png')\n",
    "    x_true = pilimg_to_tensor(x_true_pil, device)\n",
    "    print(\"Original image\", str(idx).zfill(5)+'.png')\n",
    "    display_as_pilimg(x_true,save = True, filename='results_dps_sup/true'+str(idx)+'.png')\n",
    "\n",
    "    y = downsampling_operator(x_true.clone(), device = device)\n",
    "    print(\"Degraded image\")\n",
    "    display_as_pilimg(y, save = True, filename='results_dps_sup/degraded'+str(idx)+'.png')\n",
    "\n",
    "    t0 = time.time()\n",
    "    x = dps.posterior_sampling(blurring_operator, y, x_true, show_steps=True, vis_y=None)\n",
    "    t1 = time.time()-t0\n",
    "\n",
    "    xlpips = loss_fn(x, x_true).item()\n",
    "    xpsnr = psnr(x, x_true)\n",
    "    xssim = ssim(x.squeeze(0).cpu().detach().numpy(), x_true.squeeze(0).cpu().detach().numpy(), win_size=3, data_range=1.0, size_average=True)\n",
    "    print(\"LPIPS =\", xlpips, \", PSNR =\", xpsnr, \", SSIM = \", xssim, \", Execution time = \", t1)\n",
    "    print(\"Restaured image\")\n",
    "    display_as_pilimg(x, save = True, filename='results_dps_sup/restaured'+str(idx)+'.png')\n",
    "    avg_lpips.append(xlpips)\n",
    "    avg_psnr.append(xpsnr)\n",
    "    avg_ssim.append(xssim)\n",
    "    avg_tps.append(t1)"
   ]
  },
  {
   "cell_type": "code",
   "execution_count": null,
   "metadata": {},
   "outputs": [],
   "source": [
    "print(\"Average LPIPS : \", np.mean(avg_lpips))\n",
    "print(\"Average PSNR : \", np.mean(avg_psnr))\n",
    "print(\"Average SSIM : \", np.mean(avg_ssim))\n",
    "print(\"Average Execution time : \", np.mean(avg_tps))"
   ]
  },
  {
   "cell_type": "code",
   "execution_count": null,
   "metadata": {},
   "outputs": [],
   "source": [
    "print(\"Variance LPIPS : \", np.var(avg_lpips))\n",
    "print(\"Variance PSNR : \", np.var(avg_psnr))\n",
    "print(\"Variance SSIM : \", np.var(avg_ssim))\n",
    "print(\"Variance Execution time : \", np.var(avg_tps))"
   ]
  },
  {
   "cell_type": "markdown",
   "metadata": {},
   "source": [
    "Run the experiments for SR4 + noise level 0.05"
   ]
  },
  {
   "cell_type": "code",
   "execution_count": null,
   "metadata": {},
   "outputs": [],
   "source": [
    "sigma_noise = 0.05\n",
    "avg_lpips = []\n",
    "avg_psnr = []\n",
    "avg_ssim = []\n",
    "avg_tps = []\n",
    "\n",
    "loss_fn = lpips.LPIPS(net='alex').to(device)\n",
    "\n",
    "for idx in range(25):\n",
    "    x_true_pil = Image.open('ffhq256/'+str(idx).zfill(5)+'.png')\n",
    "    x_true = pilimg_to_tensor(x_true_pil, device)\n",
    "    print(\"Original image\", str(idx).zfill(5)+'.png')\n",
    "    display_as_pilimg(x_true,save = True, filename='results_dps_sup05/true'+str(idx)+'.png')\n",
    "\n",
    "    y = downsampling_operator(x_true.clone(), device = device) + sigma_noise * torch.randn_like(x_true, device=device)\n",
    "    print(\"Degraded image\")\n",
    "    display_as_pilimg(y, save = True, filename='results_dps_sup05/degraded'+str(idx)+'.png')\n",
    "\n",
    "    t0 = time.time()\n",
    "    x = dps.posterior_sampling(blurring_operator, y, x_true, show_steps=True, vis_y=None)\n",
    "    t1 = time.time()-t0\n",
    "\n",
    "    xlpips = loss_fn(x, x_true).item()\n",
    "    xpsnr = psnr(x, x_true)\n",
    "    xssim = ssim(x.squeeze(0).cpu().detach().numpy(), x_true.squeeze(0).cpu().detach().numpy(), win_size=3, data_range=1.0, size_average=True)\n",
    "    print(\"LPIPS =\", xlpips, \", PSNR =\", xpsnr, \", SSIM = \", xssim, \", Execution time = \", t1)\n",
    "    print(\"Restaured image\")\n",
    "    display_as_pilimg(x, save = True, filename='results_dps_sup05/restaured'+str(idx)+'.png')\n",
    "    avg_lpips.append(xlpips)\n",
    "    avg_psnr.append(xpsnr)\n",
    "    avg_ssim.append(xssim)\n",
    "    avg_tps.append(t1)"
   ]
  },
  {
   "cell_type": "code",
   "execution_count": null,
   "metadata": {},
   "outputs": [],
   "source": [
    "print(\"Average LPIPS : \", np.mean(avg_lpips))\n",
    "print(\"Average PSNR : \", np.mean(avg_psnr))\n",
    "print(\"Average SSIM : \", np.mean(avg_ssim))\n",
    "print(\"Average Execution time : \", np.mean(avg_tps))"
   ]
  },
  {
   "cell_type": "code",
   "execution_count": null,
   "metadata": {},
   "outputs": [],
   "source": [
    "print(\"Variance LPIPS : \", np.var(avg_lpips))\n",
    "print(\"Variance PSNR : \", np.var(avg_psnr))\n",
    "print(\"Variance SSIM : \", np.var(avg_ssim))\n",
    "print(\"Variance Execution time : \", np.var(avg_tps))"
   ]
  },
  {
   "cell_type": "code",
   "execution_count": null,
   "metadata": {},
   "outputs": [],
   "source": [
    "avg_lpips = []\n",
    "avg_psnr = []\n",
    "avg_ssim = []\n",
    "avg_tps = []\n",
    "\n",
    "loss_fn = lpips.LPIPS(net='alex').to(device)\n",
    "\n",
    "for idx in range(25):\n",
    "    x_true_pil = Image.open('ffhq256/'+str(idx).zfill(5)+'.png')\n",
    "    x_true = pilimg_to_tensor(x_true_pil, device)\n",
    "    print(\"Original image\", str(idx).zfill(5)+'.png')\n",
    "    display_as_pilimg(x_true, save = True, filename='results_dps_blur/true'+str(idx)+'.png')\n",
    "\n",
    "    y = blurring_operator(x_true.clone(), device = device)\n",
    "    print(\"Degraded image\")\n",
    "    display_as_pilimg(y, save = True, filename='results_dps_blur/degraded'+str(idx)+'.png')\n",
    "\n",
    "    t0 = time.time()\n",
    "    x = dps.posterior_sampling(blurring_operator, y, x_true, show_steps=True, vis_y=None)\n",
    "    t1 = time.time()-t0\n",
    "\n",
    "    xlpips = loss_fn(x, x_true).item()\n",
    "    xpsnr = psnr(x, x_true)\n",
    "    xssim = ssim(x.squeeze(0).cpu().detach().numpy(), x_true.squeeze(0).cpu().detach().numpy(), win_size=3, data_range=1.0, size_average=True)\n",
    "    print(\"LPIPS =\", xlpips, \", PSNR =\", xpsnr, \", SSIM = \", xssim, \", Execution time = \", t1)\n",
    "    print(\"Restaured image\")\n",
    "    display_as_pilimg(x,save = True, filename='results_dps_blur/restored'+str(idx)+'.png')\n",
    "    \n",
    "    avg_lpips.append(xlpips)\n",
    "    avg_psnr.append(xpsnr)\n",
    "    avg_ssim.append(xssim)\n",
    "    avg_tps.append(t1)"
   ]
  },
  {
   "cell_type": "code",
   "execution_count": null,
   "metadata": {},
   "outputs": [],
   "source": [
    "print(\"Average LPIPS : \", np.mean(avg_lpips))\n",
    "print(\"Average PSNR : \", np.mean(avg_psnr))\n",
    "print(\"Average SSIM : \", np.mean(avg_ssim))\n",
    "print(\"Average Execution time : \", np.mean(avg_tps))"
   ]
  },
  {
   "cell_type": "code",
   "execution_count": null,
   "metadata": {},
   "outputs": [],
   "source": [
    "print(\"Variance LPIPS : \", np.var(avg_lpips))\n",
    "print(\"Variance PSNR : \", np.var(avg_psnr))\n",
    "print(\"Variance SSIM : \", np.var(avg_ssim))\n",
    "print(\"Variance Execution time : \", np.var(avg_tps))"
   ]
  },
  {
   "cell_type": "code",
   "execution_count": null,
   "metadata": {},
   "outputs": [],
   "source": []
  }
 ],
 "metadata": {
  "kernelspec": {
   "display_name": "base",
   "language": "python",
   "name": "python3"
  },
  "language_info": {
   "codemirror_mode": {
    "name": "ipython",
    "version": 3
   },
   "file_extension": ".py",
   "mimetype": "text/x-python",
   "name": "python",
   "nbconvert_exporter": "python",
   "pygments_lexer": "ipython3",
   "version": "3.12.7"
  }
 },
 "nbformat": 4,
 "nbformat_minor": 2
}
