{
 "cells": [
  {
   "cell_type": "code",
   "execution_count": null,
   "metadata": {},
   "outputs": [],
   "source": [
    "!pip install lpips\n",
    "!pip install scikit-image"
   ]
  },
  {
   "cell_type": "code",
   "execution_count": null,
   "metadata": {},
   "outputs": [],
   "source": [
    "!pip install git+https://github.com/deepinv/deepinv.git#egg=deepinv\n",
    "import deepinv as dinv"
   ]
  },
  {
   "cell_type": "code",
   "execution_count": null,
   "metadata": {},
   "outputs": [],
   "source": [
    "import torch\n",
    "import torchvision\n",
    "import numpy as np\n",
    "import time\n",
    "import matplotlib.pyplot as plt\n",
    "from PIL import Image\n",
    "from tqdm import tqdm\n",
    "import lpips\n",
    "from skimage.metrics import structural_similarity as ssim\n",
    "from utils import pilimg_to_tensor, display_as_pilimg, inpainting_operator, psnr, blurring_operator, downsampling_operator, transposed_blurring_op\n",
    "device = \"cuda:0\" if torch.cuda.is_available() else \"cpu\"\n",
    "print(\"Device:\", device)"
   ]
  },
  {
   "cell_type": "code",
   "execution_count": null,
   "metadata": {},
   "outputs": [],
   "source": [
    "# Import PnP-SGD\n",
    "from pnpsgd import PnPSGD\n",
    "nu = 4/255\n",
    "D=dinv.models.GSDRUNet(pretrained='download').to(device)"
   ]
  },
  {
   "cell_type": "code",
   "execution_count": null,
   "metadata": {},
   "outputs": [],
   "source": [
    "idx = 11\n",
    "    \n",
    "x_true = torch.tensor(plt.imread('ffhq256/'+str(idx).zfill(5)+'.png'),device=device)\n",
    "x_true = x_true.permute(2,0,1).unsqueeze(0)\n",
    "print(\"Original image :\")\n",
    "display_as_pilimg(x_true)\n",
    "sigma_noise = 0.01\n",
    "y = blurring_operator(x_true.clone(), device = device) + 0.01 * torch.randn_like(x_true, device=device)\n",
    "print(\"Blurring operator + noise :\")\n",
    "display_as_pilimg(y)"
   ]
  },
  {
   "cell_type": "code",
   "execution_count": null,
   "metadata": {},
   "outputs": [],
   "source": [
    "x = PnPSGD(x_true, y, nu, blurring_operator, transposed_blurring_op, D, device)\n",
    "display_as_pilimg(x)"
   ]
  },
  {
   "cell_type": "markdown",
   "metadata": {},
   "source": [
    "For noise level = 0.05"
   ]
  },
  {
   "cell_type": "code",
   "execution_count": null,
   "metadata": {},
   "outputs": [],
   "source": [
    "sigma_noise = 0.05\n",
    "avg_lpips = []\n",
    "avg_psnr = []\n",
    "avg_ssim = []\n",
    "avg_tps = []\n",
    "\n",
    "loss_fn = lpips.LPIPS(net='alex').to(device)\n",
    "\n",
    "for idx in range(25):\n",
    "    x_true = torch.tensor(plt.imread('ffhq256/'+str(idx).zfill(5)+'.png'),device=device)\n",
    "    x_true = x_true.permute(2,0,1).unsqueeze(0)\n",
    "    print(\"Original image\", str(idx).zfill(5)+'.png')\n",
    "    display_as_pilimg(x_true,save = True, filename='results_pnp_05/true'+str(idx)+'.png')\n",
    "\n",
    "    y = blurring_operator(x_true.clone(), device = device) + sigma_noise * torch.randn_like(x_true, device = device)\n",
    "    print(\"Degraded image\")\n",
    "    display_as_pilimg(y,save = True, filename='results_pnp_05/degraded'+str(idx)+'.png')\n",
    "\n",
    "    t0 = time.time()\n",
    "    x = PnPSGD(x_true, y, nu, blurring_operator, transposed_blurring_op, D, device)\n",
    "    t1 = time.time()-t0\n",
    "\n",
    "    xlpips = loss_fn(x, x_true).item()\n",
    "    xpsnr = psnr(x, x_true)\n",
    "    xssim = ssim(x.squeeze(0).cpu().detach().numpy(), x_true.squeeze(0).cpu().detach().numpy(), win_size=3, data_range=1.0, size_average=True)\n",
    "    print(\"LPIPS =\", xlpips, \", PSNR =\", xpsnr, \", SSIM = \", xssim, \", Execution time = \", t1)\n",
    "    print(\"Restaured image\")\n",
    "    display_as_pilimg(x, save = True, filename = 'results_pnp_05/restaured'+str(idx)+'.png')\n",
    "    \n",
    "    avg_lpips.append(xlpips)\n",
    "    avg_psnr.append(xpsnr)\n",
    "    avg_ssim.append(xssim)\n",
    "    avg_tps.append(t1)"
   ]
  },
  {
   "cell_type": "code",
   "execution_count": null,
   "metadata": {},
   "outputs": [],
   "source": [
    "print(\"Average LPIPS : \", np.mean(avg_lpips))\n",
    "print(\"Average PSNR : \", np.mean(avg_psnr))\n",
    "print(\"Average SSIM : \", np.mean(avg_ssim))\n",
    "print(\"Average Execution time : \", np.mean(avg_tps))"
   ]
  },
  {
   "cell_type": "code",
   "execution_count": null,
   "metadata": {},
   "outputs": [],
   "source": [
    "print(\"Variance LPIPS : \", np.var(avg_lpips))\n",
    "print(\"Variance PSNR : \", np.var(avg_psnr))\n",
    "print(\"Variance SSIM : \", np.var(avg_ssim))\n",
    "print(\"Variance Execution time : \", np.var(avg_tps))"
   ]
  },
  {
   "cell_type": "markdown",
   "metadata": {},
   "source": [
    "For noise level 0.1 : "
   ]
  },
  {
   "cell_type": "code",
   "execution_count": null,
   "metadata": {},
   "outputs": [],
   "source": [
    "sigma_noise = 0.1\n",
    "avg_lpips = []\n",
    "avg_psnr = []\n",
    "avg_ssim = []\n",
    "avg_tps = []\n",
    "\n",
    "loss_fn = lpips.LPIPS(net='alex').to(device)\n",
    "\n",
    "for idx in range(25):\n",
    "    x_true = torch.tensor(plt.imread('ffhq256/'+str(idx).zfill(5)+'.png'),device=device)\n",
    "    x_true = x_true.permute(2,0,1).unsqueeze(0)\n",
    "    print(\"Original image\", str(idx).zfill(5)+'.png')\n",
    "    display_as_pilimg(x_true,save = True, filename='results_pnp_1/true'+str(idx)+'.png')\n",
    "\n",
    "    y = blurring_operator(x_true.clone(), device = device) + sigma_noise * torch.randn_like(x_true, device = device)\n",
    "    print(\"Degraded image\")\n",
    "    display_as_pilimg(y,save = True, filename='results_pnp_1/degraded'+str(idx)+'.png')\n",
    "\n",
    "    t0 = time.time()\n",
    "    x = PnPSGD(x_true, y, nu, blurring_operator, transposed_blurring_op, D, device)\n",
    "    t1 = time.time()-t0\n",
    "\n",
    "    xlpips = loss_fn(x, x_true).item()\n",
    "    xpsnr = psnr(x, x_true)\n",
    "    xssim = ssim(x.squeeze(0).cpu().detach().numpy(), x_true.squeeze(0).cpu().detach().numpy(), win_size=3, data_range=1.0, size_average=True)\n",
    "    print(\"LPIPS =\", xlpips, \", PSNR =\", xpsnr, \", SSIM = \", xssim, \", Execution time = \", t1)\n",
    "    print(\"Restaured image\")\n",
    "    display_as_pilimg(x, save = True, filename = 'results_pnp_1/restaured'+str(idx)+'.png')\n",
    "    \n",
    "    avg_lpips.append(xlpips)\n",
    "    avg_psnr.append(xpsnr)\n",
    "    avg_ssim.append(xssim)\n",
    "    avg_tps.append(t1)"
   ]
  },
  {
   "cell_type": "code",
   "execution_count": null,
   "metadata": {},
   "outputs": [],
   "source": [
    "print(\"Average LPIPS : \", np.mean(avg_lpips))\n",
    "print(\"Average PSNR : \", np.mean(avg_psnr))\n",
    "print(\"Average SSIM : \", np.mean(avg_ssim))\n",
    "print(\"Average Execution time : \", np.mean(avg_tps))"
   ]
  },
  {
   "cell_type": "code",
   "execution_count": null,
   "metadata": {},
   "outputs": [],
   "source": [
    "print(\"Variance LPIPS : \", np.var(avg_lpips))\n",
    "print(\"Variance PSNR : \", np.var(avg_psnr))\n",
    "print(\"Variance SSIM : \", np.var(avg_ssim))\n",
    "print(\"Variance Execution time : \", np.var(avg_tps))"
   ]
  },
  {
   "cell_type": "markdown",
   "metadata": {},
   "source": [
    "Run the experiments without additive noise : "
   ]
  },
  {
   "cell_type": "code",
   "execution_count": null,
   "metadata": {},
   "outputs": [],
   "source": [
    "\n",
    "avg_lpips = []\n",
    "avg_psnr = []\n",
    "avg_ssim = []\n",
    "avg_tps = []\n",
    "\n",
    "loss_fn = lpips.LPIPS(net='alex').to(device)\n",
    "\n",
    "for idx in range(25):\n",
    "    x_true = torch.tensor(plt.imread('ffhq256/'+str(idx).zfill(5)+'.png'),device=device)\n",
    "    x_true = x_true.permute(2,0,1).unsqueeze(0)\n",
    "    print(\"Original image\", str(idx).zfill(5)+'.png')\n",
    "    display_as_pilimg(x_true,save = True, filename='results_pnp_0/true'+str(idx)+'.png')\n",
    "\n",
    "    y = blurring_operator(x_true.clone(), device = device)\n",
    "    print(\"Degraded image\")\n",
    "    display_as_pilimg(y,save = True, filename='results_pnp_0/degraded'+str(idx)+'.png')\n",
    "\n",
    "    t0 = time.time()\n",
    "    x = PnPSGD(x_true, y, nu, blurring_operator, transposed_blurring_op, D, device)\n",
    "    t1 = time.time()-t0\n",
    "\n",
    "    xlpips = loss_fn(x, x_true).item()\n",
    "    xpsnr = psnr(x, x_true)\n",
    "    xssim = ssim(x.squeeze(0).cpu().detach().numpy(), x_true.squeeze(0).cpu().detach().numpy(), win_size=3, data_range=1.0, size_average=True)\n",
    "    print(\"LPIPS =\", xlpips, \", PSNR =\", xpsnr, \", SSIM = \", xssim, \", Execution time = \", t1)\n",
    "    print(\"Restaured image\")\n",
    "    display_as_pilimg(x, save = True, filename = 'results_pnp_0/restaured'+str(idx)+'.png')\n",
    "    \n",
    "    avg_lpips.append(xlpips)\n",
    "    avg_psnr.append(xpsnr)\n",
    "    avg_ssim.append(xssim)\n",
    "    avg_tps.append(t1)"
   ]
  },
  {
   "cell_type": "code",
   "execution_count": null,
   "metadata": {},
   "outputs": [],
   "source": [
    "print(\"Average LPIPS : \", np.mean(avg_lpips))\n",
    "print(\"Average PSNR : \", np.mean(avg_psnr))\n",
    "print(\"Average SSIM : \", np.mean(avg_ssim))\n",
    "print(\"Average Execution time : \", np.mean(avg_tps))"
   ]
  },
  {
   "cell_type": "code",
   "execution_count": null,
   "metadata": {},
   "outputs": [],
   "source": [
    "print(\"Variance LPIPS : \", np.var(avg_lpips))\n",
    "print(\"Variance PSNR : \", np.var(avg_psnr))\n",
    "print(\"Variance SSIM : \", np.var(avg_ssim))\n",
    "print(\"Variance Execution time : \", np.var(avg_tps))"
   ]
  }
 ],
 "metadata": {
  "kernelspec": {
   "display_name": "base",
   "language": "python",
   "name": "python3"
  },
  "language_info": {
   "codemirror_mode": {
    "name": "ipython",
    "version": 3
   },
   "file_extension": ".py",
   "mimetype": "text/x-python",
   "name": "python",
   "nbconvert_exporter": "python",
   "pygments_lexer": "ipython3",
   "version": "3.12.7"
  }
 },
 "nbformat": 4,
 "nbformat_minor": 2
}
